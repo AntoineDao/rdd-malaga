{
 "cells": [
  {
   "cell_type": "markdown",
   "metadata": {},
   "source": [
    "# Annual Daylight Results Mesh Analysis\n",
    "\n",
    "## Overview\n",
    "This script takes summarised annual daylight results meshes (eg: Daylight Autonomy) and compares the impact of different features (eg: size of skylight 1 vs size of skylight 2)."
   ]
  },
  {
   "cell_type": "code",
   "execution_count": 93,
   "metadata": {
    "collapsed": true
   },
   "outputs": [],
   "source": [
    "import os\n",
    "import numpy as np\n",
    "import sklearn\n",
    "import pandas as pd\n"
   ]
  },
  {
   "cell_type": "markdown",
   "metadata": {},
   "source": [
    "## Prepare data objects\n",
    "First we create a dictionary with empty numpy arrays ready to receive data. The dictionary is ordered as follows:\n",
    "\n",
    "- Daylight Metric 1 (eg: daylight autonomy)\n",
    "    - Room 1\n",
    "        - empty ndarray\n",
    "    - Room 2\n",
    "        - empty ndarray\n",
    "        \n",
    "- Daylight Metric 2 (eg: udli)\n",
    "    - Room 1\n",
    "        - empty ndarray\n",
    "    - Room 2\n",
    "        - empty ndarray"
   ]
  },
  {
   "cell_type": "code",
   "execution_count": 94,
   "metadata": {
    "collapsed": true
   },
   "outputs": [],
   "source": [
    "path = \"C:/Users/adao/Desktop/Warwick_Daylighting/Processed/\"\n",
    "\n",
    "\n",
    "floors = {}\n",
    "skylight_data = {}\n",
    "dla_data = {}\n",
    "udli_low_data = {}\n",
    "udli_data = {}\n",
    "udli_high_data = {}\n",
    "\n",
    "for file in os.listdir(path):\n",
    "    parameters = file.split(\"_\")\n",
    "    floor = parameters[0]\n",
    "    \n",
    "    text = open(path + file)\n",
    "    content = text.readlines()\n",
    "    mesh_size = len(content[0].split(\",\"))\n",
    "    \n",
    "    floors[floor] = []\n",
    "    skylight_data[floor] = []\n",
    "    dla_data[floor] = []\n",
    "    udli_low_data[floor] = []\n",
    "    udli_data[floor] = []\n",
    "    udli_high_data[floor] = []\n",
    "    \n",
    "sDAlist = []\n"
   ]
  },
  {
   "cell_type": "markdown",
   "metadata": {},
   "source": [
    "## Import the data\n",
    "For each daylight metric and floor we extract the data from the results files and append them to the correct dictionary key pairs"
   ]
  },
  {
   "cell_type": "code",
   "execution_count": 95,
   "metadata": {
    "collapsed": true
   },
   "outputs": [],
   "source": [
    "def get_row(content,i):\n",
    "    row = content[i].split(\",\")\n",
    "    try:\n",
    "        row[-1] = row[-1].split('\\n')[0]\n",
    "    except:\n",
    "        pass\n",
    "    return row"
   ]
  },
  {
   "cell_type": "code",
   "execution_count": 96,
   "metadata": {},
   "outputs": [
    {
     "name": "stdout",
     "output_type": "stream",
     "text": [
      "(64, 3)\n",
      "(64, 4633)\n",
      "(64, 4633)\n",
      "(64, 4633)\n",
      "(64, 4633)\n",
      "(64, 3)\n",
      "(64, 4294)\n",
      "(64, 4294)\n",
      "(64, 4294)\n",
      "(64, 4294)\n",
      "(64, 3)\n",
      "(64, 3050)\n",
      "(64, 3050)\n",
      "(64, 3050)\n",
      "(64, 3050)\n",
      "(64, 3)\n",
      "(64, 2760)\n",
      "(64, 2760)\n",
      "(64, 2760)\n",
      "(64, 2760)\n",
      "(64, 3)\n",
      "(64, 2954)\n",
      "(64, 2954)\n",
      "(64, 2954)\n",
      "(64, 2954)\n",
      "(64, 3)\n",
      "(64, 3176)\n",
      "(64, 3176)\n",
      "(64, 3176)\n",
      "(64, 3176)\n",
      "(64, 3)\n",
      "(64, 1641)\n",
      "(64, 1641)\n",
      "(64, 1641)\n",
      "(64, 1641)\n"
     ]
    }
   ],
   "source": [
    "i = 0\n",
    "for file in os.listdir(path):\n",
    "    text = open(path + file)\n",
    "    content = text.readlines()\n",
    "    \n",
    "    parameters = file.split(\"_\")\n",
    "    \n",
    "    floor = parameters[0]\n",
    "    west_skylight = float(parameters[2])# + \".\" + parameters[5])\n",
    "    south_skylight = float(parameters[4])# + \".\" + parameters[8])\n",
    "    north_skylight = float(parameters[6].split('.')[0])# + \".\" + parameters[11].split(\".\")[0])\n",
    "\n",
    "    skylight_datum = [west_skylight, south_skylight, north_skylight]\n",
    "\n",
    "    skylight_data[floor].append(skylight_datum)\n",
    "    \n",
    "    dla = get_row(content, 0)\n",
    "\n",
    "    udli_low = get_row(content, 1)\n",
    "\n",
    "    udli = get_row(content, 2)\n",
    "\n",
    "    udli_high = get_row(content, 3)\n",
    "\n",
    "    \n",
    "\n",
    "    dla_data[floor].append(dla)\n",
    "\n",
    "    udli_low_data[floor].append(udli_low)\n",
    "\n",
    "    udli_data[floor].append(udli)\n",
    "\n",
    "    udli_high_data[floor].append(udli_high)\n",
    "\n",
    "    if floor == '1st':\n",
    "        i+=1\n",
    "        \n",
    "    # Get sDA data into sDAList to then put into pandas\n",
    "    sDA = content[4]\n",
    "    try:\n",
    "        sDa = sDa.split('\\n')[0]\n",
    "    except:\n",
    "        pass\n",
    "    entry = {'west_skylight':west_skylight, 'south_skylight':south_skylight, 'north_skylight':north_skylight,\n",
    "            floor:float(sDA)}\n",
    "    sDAlist.append(entry)\n",
    "\n",
    "for floor in list(skylight_data.keys()):\n",
    "    skylight_data[floor] = np.asarray(skylight_data[floor])\n",
    "    print(skylight_data[floor].shape)\n",
    "    dla_data[floor] = np.asarray(dla_data[floor]).astype('float64')\n",
    "    print(dla_data[floor].shape)\n",
    "    udli_low_data[floor] = np.asarray(udli_low_data[floor]).astype('float64')\n",
    "    print(udli_low_data[floor].shape)\n",
    "    udli_data[floor] = np.asarray(udli_data[floor]).astype('float64')\n",
    "    print(udli_data[floor].shape)\n",
    "    udli_high_data[floor] = np.asarray(udli_high_data[floor]).astype('float64')\n",
    "    print(udli_high_data[floor].shape)\n"
   ]
  },
  {
   "cell_type": "code",
   "execution_count": 97,
   "metadata": {
    "collapsed": true
   },
   "outputs": [],
   "source": [
    "df = pd.DataFrame(sDAlist)\n",
    "# df.groupby(['north_skylight','south_skylight','west_skylight']).mean()\n",
    "# print(df)\n",
    "df.to_csv(\"C:/Users/adao/Desktop/Warwick_Daylighting/SVM Results/sDA.csv\")"
   ]
  },
  {
   "cell_type": "code",
   "execution_count": 98,
   "metadata": {},
   "outputs": [
    {
     "name": "stdout",
     "output_type": "stream",
     "text": [
      "Ground [ 90.  90.  91. ...,   6.  20.  58.]\n",
      "Ground [ 90.  90.  91. ...,   9.  22.  54.]\n"
     ]
    }
   ],
   "source": [
    "floor = 'Ground'\n",
    "print(floor + \" \" + str(dla_data[floor][0,:]))\n",
    "print(floor + \" \" + str(dla_data[floor][60,:]))\n",
    "# for floor in daylight_data['udli_low'].keys():\n",
    "#     print(floor + \" \" + str(metric_meshes['dla'][floor]))"
   ]
  },
  {
   "cell_type": "markdown",
   "metadata": {},
   "source": [
    "## Initialise SVM\n",
    "We use sci-kit learn One Classe Support Vector Machine (SVM) algorithm to..."
   ]
  },
  {
   "cell_type": "code",
   "execution_count": 99,
   "metadata": {
    "collapsed": true
   },
   "outputs": [],
   "source": [
    "from sklearn.svm import OneClassSVM\n",
    "def get_coefficients(X,y):\n",
    "    clf = OneClassSVM(kernel='linear')\n",
    "    clf.fit(X,y)\n",
    "    return clf.coef_"
   ]
  },
  {
   "cell_type": "code",
   "execution_count": 100,
   "metadata": {
    "collapsed": true
   },
   "outputs": [],
   "source": [
    "from sklearn.preprocessing import MinMaxScaler\n",
    "\n",
    "def get_coeffs(resultsDict):\n",
    "    for floor in list(resultsDict.keys()):\n",
    "        print(floor + \" \" + str(resultsDict[floor].shape))\n",
    "        mesh = np.array([]).reshape(0,3)\n",
    "                \n",
    "        for Y in np.transpose(resultsDict[floor]):\n",
    "            X = skylight_data[floor]\n",
    "\n",
    "            coefs = get_coefficients(X,Y)\n",
    "            #print(coefs.shape)\n",
    "            #scaler = MinMaxScaler()\n",
    "            #scaler.fit(coefs)\n",
    "            #coefs = scaler.transform(coefs)\n",
    "            stdev = np.std(Y)\n",
    "            impact = stdev * np.asarray([[1,1,1]]) #coefs * stdev\n",
    "            \n",
    "            mesh = np.append(mesh, impact, axis=0)\n",
    "        \n",
    "        mesh = np.transpose(mesh)\n",
    "        \n",
    "        print(\"~~~~ Output mesh shape \" + str(mesh.shape))\n",
    "        print(\"\")\n",
    "\n",
    "        resultsDict[floor] = mesh\n",
    "    \n",
    "    return mesh.shape"
   ]
  },
  {
   "cell_type": "code",
   "execution_count": 101,
   "metadata": {},
   "outputs": [
    {
     "name": "stdout",
     "output_type": "stream",
     "text": [
      "1st (64, 4633)\n",
      "~~~~ Output mesh shape (3, 4633)\n",
      "\n",
      "2nd (64, 4294)\n",
      "~~~~ Output mesh shape (3, 4294)\n",
      "\n",
      "3rd (64, 3050)\n",
      "~~~~ Output mesh shape (3, 3050)\n",
      "\n",
      "4th (64, 2760)\n",
      "~~~~ Output mesh shape (3, 2760)\n",
      "\n",
      "5th (64, 2954)\n",
      "~~~~ Output mesh shape (3, 2954)\n",
      "\n",
      "Ground (64, 3176)\n",
      "~~~~ Output mesh shape (3, 3176)\n",
      "\n",
      "Mezzanine (64, 1641)\n",
      "~~~~ Output mesh shape (3, 1641)\n",
      "\n",
      "(3, 1641)\n",
      "~~~~ New Metric ~~~~~\n",
      "1st (64, 4633)\n",
      "~~~~ Output mesh shape (3, 4633)\n",
      "\n",
      "2nd (64, 4294)\n",
      "~~~~ Output mesh shape (3, 4294)\n",
      "\n",
      "3rd (64, 3050)\n",
      "~~~~ Output mesh shape (3, 3050)\n",
      "\n",
      "4th (64, 2760)\n",
      "~~~~ Output mesh shape (3, 2760)\n",
      "\n",
      "5th (64, 2954)\n",
      "~~~~ Output mesh shape (3, 2954)\n",
      "\n",
      "Ground (64, 3176)\n",
      "~~~~ Output mesh shape (3, 3176)\n",
      "\n",
      "Mezzanine (64, 1641)\n",
      "~~~~ Output mesh shape (3, 1641)\n",
      "\n",
      "(3, 1641)\n",
      "~~~~ New Metric ~~~~~\n",
      "1st (64, 4633)\n",
      "~~~~ Output mesh shape (3, 4633)\n",
      "\n",
      "2nd (64, 4294)\n",
      "~~~~ Output mesh shape (3, 4294)\n",
      "\n",
      "3rd (64, 3050)\n",
      "~~~~ Output mesh shape (3, 3050)\n",
      "\n",
      "4th (64, 2760)\n",
      "~~~~ Output mesh shape (3, 2760)\n",
      "\n",
      "5th (64, 2954)\n",
      "~~~~ Output mesh shape (3, 2954)\n",
      "\n",
      "Ground (64, 3176)\n",
      "~~~~ Output mesh shape (3, 3176)\n",
      "\n",
      "Mezzanine (64, 1641)\n",
      "~~~~ Output mesh shape (3, 1641)\n",
      "\n",
      "(3, 1641)\n",
      "~~~~ New Metric ~~~~~\n",
      "1st (64, 4633)\n",
      "~~~~ Output mesh shape (3, 4633)\n",
      "\n",
      "2nd (64, 4294)\n",
      "~~~~ Output mesh shape (3, 4294)\n",
      "\n",
      "3rd (64, 3050)\n",
      "~~~~ Output mesh shape (3, 3050)\n",
      "\n",
      "4th (64, 2760)\n",
      "~~~~ Output mesh shape (3, 2760)\n",
      "\n",
      "5th (64, 2954)\n",
      "~~~~ Output mesh shape (3, 2954)\n",
      "\n",
      "Ground (64, 3176)\n",
      "~~~~ Output mesh shape (3, 3176)\n",
      "\n",
      "Mezzanine (64, 1641)\n",
      "~~~~ Output mesh shape (3, 1641)\n",
      "\n",
      "(3, 1641)\n"
     ]
    }
   ],
   "source": [
    "print(get_coeffs(dla_data))\n",
    "print(\"~~~~ New Metric ~~~~~\")\n",
    "print(get_coeffs(udli_low_data))\n",
    "print(\"~~~~ New Metric ~~~~~\")\n",
    "print(get_coeffs(udli_data))\n",
    "print(\"~~~~ New Metric ~~~~~\")\n",
    "print(get_coeffs(udli_high_data))"
   ]
  },
  {
   "cell_type": "code",
   "execution_count": 102,
   "metadata": {
    "collapsed": true
   },
   "outputs": [],
   "source": [
    "def saveToTxt(data,name):\n",
    "    for floor in skylight_data.keys():\n",
    "            datum = data[floor]\n",
    "            print(floor + \" \" + str(datum.shape))\n",
    "            file = \"C:/Users/adao/Desktop/Warwick_Daylighting/SVM Results/\" + name + \"_\" + floor +\".txt\" \n",
    "            np.savetxt(file,datum, delimiter=\",\")"
   ]
  },
  {
   "cell_type": "code",
   "execution_count": 103,
   "metadata": {},
   "outputs": [
    {
     "name": "stdout",
     "output_type": "stream",
     "text": [
      "1st (3, 4633)\n",
      "2nd (3, 4294)\n",
      "3rd (3, 3050)\n",
      "4th (3, 2760)\n",
      "5th (3, 2954)\n",
      "Ground (3, 3176)\n",
      "Mezzanine (3, 1641)\n",
      "1st (3, 4633)\n",
      "2nd (3, 4294)\n",
      "3rd (3, 3050)\n",
      "4th (3, 2760)\n",
      "5th (3, 2954)\n",
      "Ground (3, 3176)\n",
      "Mezzanine (3, 1641)\n",
      "1st (3, 4633)\n",
      "2nd (3, 4294)\n",
      "3rd (3, 3050)\n",
      "4th (3, 2760)\n",
      "5th (3, 2954)\n",
      "Ground (3, 3176)\n",
      "Mezzanine (3, 1641)\n",
      "1st (3, 4633)\n",
      "2nd (3, 4294)\n",
      "3rd (3, 3050)\n",
      "4th (3, 2760)\n",
      "5th (3, 2954)\n",
      "Ground (3, 3176)\n",
      "Mezzanine (3, 1641)\n"
     ]
    }
   ],
   "source": [
    "saveToTxt(dla_data, \"sda\")\n",
    "saveToTxt(udli_data, \"udli\")\n",
    "saveToTxt(udli_low_data, \"udli_low\")\n",
    "saveToTxt(udli_high_data, \"udli_high\")"
   ]
  },
  {
   "cell_type": "code",
   "execution_count": 104,
   "metadata": {},
   "outputs": [
    {
     "name": "stdout",
     "output_type": "stream",
     "text": [
      "[[1 1 1]\n",
      " [2 2 2]\n",
      " [3 3 3]\n",
      " [4 4 4]]\n"
     ]
    }
   ],
   "source": [
    "import numpy as np\n",
    "\n",
    "def pareto_frontier_multi(myArray):\n",
    "    # Sort on first dimension\n",
    "    myArray = myArray[myArray[:,0].argsort()]\n",
    "    # Add first row to pareto_frontier\n",
    "    pareto_frontier = myArray[0:1,:]\n",
    "    # Test next row against the last row in pareto_frontier\n",
    "    for row in myArray[1:,:]:\n",
    "        if sum([row[x] >= pareto_frontier[-1][x]\n",
    "                for x in range(len(row))]) == len(row):\n",
    "            # If it is better on all features add the row to pareto_frontier\n",
    "            pareto_frontier = np.concatenate((pareto_frontier, [row]))\n",
    "    return pareto_frontier\n",
    "\n",
    "def test():\n",
    "    myArray = np.array([[1,1,1],[2,2,2],[4,4,4],[3,3,3],[3,2,3]])\n",
    "    print(pareto_frontier_multi(myArray))\n",
    "\n",
    "test()"
   ]
  },
  {
   "cell_type": "code",
   "execution_count": null,
   "metadata": {
    "collapsed": true
   },
   "outputs": [],
   "source": []
  }
 ],
 "metadata": {
  "kernelspec": {
   "display_name": "Python 3",
   "language": "python",
   "name": "python3"
  },
  "language_info": {
   "codemirror_mode": {
    "name": "ipython",
    "version": 3
   },
   "file_extension": ".py",
   "mimetype": "text/x-python",
   "name": "python",
   "nbconvert_exporter": "python",
   "pygments_lexer": "ipython3",
   "version": "3.6.3"
  }
 },
 "nbformat": 4,
 "nbformat_minor": 2
}
